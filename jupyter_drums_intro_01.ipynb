{
 "cells": [
  {
   "cell_type": "markdown",
   "id": "b571bdaa-82bf-42bd-8b49-30558dbff492",
   "metadata": {},
   "source": [
    "# Creating a synth drumkit using ipytone and jupyter widgets\n",
    "\n",
    "## UNDER CONSTRUCTION"
   ]
  },
  {
   "cell_type": "code",
   "execution_count": null,
   "id": "54053254-57a6-419b-92b3-9cb291076d34",
   "metadata": {},
   "outputs": [],
   "source": [
    "import ipytone\n",
    "import ipywidgets as widgets\n",
    "\n",
    "import matplotlib.pyplot as plt\n",
    "# %matplotlib"
   ]
  },
  {
   "cell_type": "code",
   "execution_count": 3,
   "id": "9276e3d3-49d9-43be-b747-fe4363e46880",
   "metadata": {},
   "outputs": [],
   "source": [
    "channel1 = ipytone.Channel(pan=-0.5).to_destination()\n",
    "filtr = ipytone.Filter(frequency=100)\n",
    "synth = ipytone.MonoSynth(volume=-7).chain(filtr, channel1)\n",
    "\n",
    "channel2 = ipytone.Channel(pan=0.2, channel_count=2).to_destination()\n",
    "delay = ipytone.PingPongDelay(delay_time=\"16n\", feedback=0.2)\n",
    "perc_synth = ipytone.MembraneSynth(volume=-10).chain(delay, channel2)"
   ]
  },
  {
   "cell_type": "code",
   "execution_count": 4,
   "id": "e2b176f6-ee47-4b5b-aab6-c5d5cfca76ee",
   "metadata": {},
   "outputs": [],
   "source": [
    "lfo = ipytone.LFO(frequency=\"4m\", min=100, max=10_000)\n",
    "lfo.connect(filtr.frequency).start()\n",
    "\n",
    "lfo2 = ipytone.LFO(frequency=\"8n\", min=-200, max=200, type=\"triangle\")\n",
    "lfo2.connect(perc_synth.detune).start()\n",
    "\n",
    "perc_synth.pitch_decay = 0.02\n",
    "delay.wet.value = 0.1\n",
    "lfo2.amplitude.value = 0.6"
   ]
  },
  {
   "cell_type": "code",
   "execution_count": 5,
   "id": "4db929c5-cf03-44b3-a820-21b887c82706",
   "metadata": {},
   "outputs": [],
   "source": [
    "def clb(time, note):\n",
    "    synth.trigger_attack_release(note, 0.2, time=time)\n",
    "    perc_synth.trigger_attack_release(note, 0.05, time=time)\n",
    "\n",
    "sequence = ipytone.Sequence(\n",
    "    callback=clb,\n",
    "    events=[\"A0\", \"A1\", \"A0\", None, \"F#2\", \"G2\", \"G#2\", \"A2\"],\n",
    "    subdivision=\"16n\",\n",
    ")"
   ]
  },
  {
   "cell_type": "code",
   "execution_count": 6,
   "id": "9a728f9b-5dc7-46b0-a173-0431f761d37b",
   "metadata": {},
   "outputs": [
    {
     "data": {
      "text/plain": [
       "Sequence(loop=True, loop_start=0.0, loop_end=0.0)"
      ]
     },
     "execution_count": 6,
     "metadata": {},
     "output_type": "execute_result"
    }
   ],
   "source": [
    "ipytone.get_transport().start()\n",
    "sequence.start()"
   ]
  },
  {
   "cell_type": "code",
   "execution_count": 7,
   "id": "c0f68108-5465-42b4-9f80-6658130c039d",
   "metadata": {},
   "outputs": [
    {
     "data": {
      "text/plain": [
       "Transport()"
      ]
     },
     "execution_count": 7,
     "metadata": {},
     "output_type": "execute_result"
    }
   ],
   "source": [
    "ipytone.get_transport().pause()"
   ]
  },
  {
   "cell_type": "code",
   "execution_count": 8,
   "id": "a7d23d1a-d3cc-4b15-a1e8-312c8378f042",
   "metadata": {},
   "outputs": [],
   "source": [
    "import asyncio\n",
    "\n",
    "async def melody():\n",
    "    \"\"\"8x2 measures melody\"\"\"\n",
    "    m2 = ipytone.get_transport().bpm.value / 60 * 2\n",
    "\n",
    "    # 1 ---\n",
    "    sequence.events = [\"A1\", \"A2\", \"A0\", None, \"E4\", \"A3\", \"E4\", \"A4\"]\n",
    "    await asyncio.sleep(m2)\n",
    "    # 2 ---\n",
    "    sequence.events = [\"A1\", \"A2\", \"A0\", None, \"E4\", \"A3\", \"E4\", \"B4\"]\n",
    "    await asyncio.sleep(m2)\n",
    "    # 3 ---\n",
    "    sequence.events = [\"A1\", \"A2\", \"A0\", None, \"E4\", \"A3\", \"E4\", \"C4\"]\n",
    "    await asyncio.sleep(m2)\n",
    "    # 4 ---\n",
    "    sequence.events = [\"A1\", \"A2\", None, \"A0\", \"E5\", None, \"E4\", \"A4\"]\n",
    "    await asyncio.sleep(m2)\n",
    "    # 5 ---\n",
    "    sequence.events = [\"A1\", None, None, \"A0\", \"E5\", None, None, None]\n",
    "    await asyncio.sleep(m2)\n",
    "    # 6 ---\n",
    "    synth.portamento = 0.08\n",
    "    filtr.q.ramp_to(6, \"4m\")\n",
    "    lfo2.amplitude.ramp_to(1, \"4m\")\n",
    "    await asyncio.sleep(m2)\n",
    "    # 7 ---\n",
    "    sequence.events = [\"A1\", \"A2\", None, \"A0\", \"E5\", None, \"G5\", \"A4\"]\n",
    "    await asyncio.sleep(m2)\n",
    "    # 8 ---\n",
    "    delay.wet.ramp_to(0.8, \"2m\")\n",
    "    synth.portamento = 0.1\n",
    "    await asyncio.sleep(m2)\n",
    "    # 1 ---\n",
    "    synth.portamento = 0\n",
    "    filtr.q.ramp_to(1, \"4n\")\n",
    "    delay.wet.ramp_to(0.1, \"4n\")\n",
    "    lfo.amplitude.ramp_to(0.1, \"4n\")\n",
    "    sequence.events = [\"A0\", \"A1\", \"A0\", None, \"F#2\", \"G2\", \"G#2\", \"A2\"]\n"
   ]
  },
  {
   "cell_type": "code",
   "execution_count": 9,
   "id": "15a3c6e9-af21-42fd-aa15-e8cdd88f452d",
   "metadata": {},
   "outputs": [],
   "source": [
    "loop = asyncio.get_event_loop()\n",
    "loop.create_task(melody());"
   ]
  },
  {
   "cell_type": "code",
   "execution_count": 10,
   "id": "8b390641-1638-4c75-9ca2-83b50b3d086a",
   "metadata": {},
   "outputs": [
    {
     "data": {
      "application/vnd.jupyter.widget-view+json": {
       "model_id": "8732ae02e8434b1fb32b51b24f4ab1dd",
       "version_major": 2,
       "version_minor": 0
      },
      "text/plain": [
       "HBox(children=(VBox(children=(FloatSlider(value=-0.5, layout=Layout(width='200px'), max=1.0, min=-1.0), Toggle…"
      ]
     },
     "execution_count": 10,
     "metadata": {},
     "output_type": "execute_result"
    }
   ],
   "source": [
    "def create_channel(node):\n",
    "    # panner\n",
    "    pan = widgets.FloatSlider(\n",
    "        value=node.pan.value, min=-1, max=1,\n",
    "        layout=widgets.Layout(width=\"200px\")\n",
    "    )\n",
    "    widgets.jslink((pan, \"value\"), (node.pan, \"value\"))\n",
    "    \n",
    "    # solo / mute buttons\n",
    "    solo = widgets.ToggleButton(value=False, description=\"Solo\")\n",
    "    mute = widgets.ToggleButton(value=False, description=\"Mute\")\n",
    "\n",
    "    def node_solo(change):\n",
    "        node.solo = change['new']\n",
    "        \n",
    "    def node_mute(change):\n",
    "        node.mute = change[\"new\"]\n",
    "        \n",
    "    solo.observe(node_solo, names='value')\n",
    "    mute.observe(node_mute, names='value')\n",
    "    \n",
    "    # fader\n",
    "    fader = widgets.FloatSlider(\n",
    "        value=0, min=-30, max=4, orientation=\"vertical\"\n",
    "    )\n",
    "    widgets.jslink((fader, \"value\"), (node.volume, \"value\"))\n",
    "\n",
    "    # L/R VU meters\n",
    "    vu_left = widgets.FloatProgress(\n",
    "        min=0, max=0.4, orientation=\"vertical\"\n",
    "    )\n",
    "    vu_right = widgets.FloatProgress(\n",
    "        min=0, max=0.4, orientation=\"vertical\"\n",
    "    )\n",
    "    split = ipytone.Split()\n",
    "    node.connect(split)\n",
    "    meter_left = ipytone.Meter(normal_range=True)\n",
    "    split.connect(meter_left, 0, 0)\n",
    "    meter_left.schedule_jsdlink((vu_left, \"value\"), transport=True)\n",
    "    meter_right = ipytone.Meter(normal_range=True)\n",
    "    split.connect(meter_right, 1, 0)\n",
    "    meter_right.schedule_jsdlink((vu_right, \"value\"), transport=True)\n",
    "    \n",
    "    # layout\n",
    "    fader_vus = widgets.HBox([fader, vu_left, vu_right])\n",
    "    return widgets.VBox([pan, solo, mute, fader_vus])\n",
    "\n",
    "\n",
    "widgets.HBox([create_channel(channel1), create_channel(channel2)])"
   ]
  },
  {
   "cell_type": "code",
   "execution_count": 11,
   "id": "d2b3e7a0-7003-424f-89b2-26ccdb24afec",
   "metadata": {},
   "outputs": [
    {
     "data": {
      "application/vnd.jupyter.widget-view+json": {
       "model_id": "291d390a4f79456f911250fb35d02d73",
       "version_major": 2,
       "version_minor": 0
      },
      "text/plain": [
       "ToggleButton(value=False, description='Start/Stop')"
      ]
     },
     "execution_count": 11,
     "metadata": {},
     "output_type": "execute_result"
    }
   ],
   "source": [
    "start_stop_button = widgets.ToggleButton(description=\"Start/Stop\")\n",
    "\n",
    "def start_stop_seq(change):\n",
    "    if change['new']:\n",
    "        ipytone.get_transport().start()\n",
    "        print(\"bange\")\n",
    "    else:\n",
    "        ipytone.get_transport().stop()\n",
    "        \n",
    "    \n",
    "start_stop_button.observe(start_stop_seq, names=\"value\")\n",
    "\n",
    "start_stop_button"
   ]
  },
  {
   "cell_type": "markdown",
   "id": "fe7c10b6-df9c-4f99-8cf6-30aae593f9bf",
   "metadata": {},
   "source": [
    "---"
   ]
  },
  {
   "cell_type": "code",
   "execution_count": 12,
   "id": "5db8425f-58e9-4017-9f2b-e6ae22d28c9a",
   "metadata": {},
   "outputs": [
    {
     "data": {
      "text/plain": [
       "Volume(volume=Param(value=-5.0, units='decibels'), mute=False)"
      ]
     },
     "execution_count": 12,
     "metadata": {},
     "output_type": "execute_result"
    }
   ],
   "source": [
    "osc = ipytone.Oscillator(volume=-5)\n",
    "\n",
    "osc.output"
   ]
  },
  {
   "cell_type": "code",
   "execution_count": 13,
   "id": "43429080-6eb4-4415-8224-81e6dfcad618",
   "metadata": {},
   "outputs": [
    {
     "data": {
      "text/plain": [
       "Oscillator()"
      ]
     },
     "execution_count": 13,
     "metadata": {},
     "output_type": "execute_result"
    }
   ],
   "source": [
    "osc.connect(ipytone.destination)\n"
   ]
  },
  {
   "cell_type": "code",
   "execution_count": 14,
   "id": "c31a055b-ba95-49d0-90f8-ef910c378da2",
   "metadata": {},
   "outputs": [
    {
     "data": {
      "text/plain": [
       "Oscillator()"
      ]
     },
     "execution_count": 14,
     "metadata": {},
     "output_type": "execute_result"
    }
   ],
   "source": [
    "# Disconnect to add the filter\n",
    "osc.disconnect(ipytone.destination)\n",
    "\n",
    "#create the filter\n",
    "filtr = ipytone.Filter(type=\"highpass\", frequency=1000)\n",
    "\n",
    "# connects in chain oscillator -> filter -> destination\n",
    "osc.chain(filtr, ipytone.destination)\n"
   ]
  },
  {
   "cell_type": "code",
   "execution_count": 15,
   "id": "5b3c57e6-8610-48fd-a0cd-5702df4d54cc",
   "metadata": {},
   "outputs": [
    {
     "data": {
      "application/vnd.jupyter.widget-view+json": {
       "model_id": "3736981697404077878a02f256fb60fb",
       "version_major": 2,
       "version_minor": 0
      },
      "text/plain": [
       "VBox(children=(FloatSlider(value=440.0, max=1000.0, min=100.0, step=1.0), Dropdown(options=('sine', 'square', …"
      ]
     },
     "execution_count": 15,
     "metadata": {},
     "output_type": "execute_result"
    }
   ],
   "source": [
    "import ipywidgets\n",
    "\n",
    "freq_slider = ipywidgets.FloatSlider(\n",
    "    value=440,\n",
    "    min=100,\n",
    "    max=1000,\n",
    "    step=1,\n",
    ")\n",
    "\n",
    "type_dropdown = ipywidgets.Dropdown(\n",
    "    options=['sine', 'square', 'sawtooth', 'triangle'],\n",
    "    value='sine',\n",
    ")\n",
    "\n",
    "toggle_play_button = ipywidgets.ToggleButton(\n",
    "    value=False,\n",
    "    description=\"Start/Stop\"\n",
    ")\n",
    "\n",
    "ipywidgets.jslink((freq_slider, 'value'), (osc.frequency, 'value'))\n",
    "ipywidgets.link((type_dropdown, 'value'), (osc, 'type'))\n",
    "\n",
    "def start_stop_osc(change):\n",
    "    if change['new']:\n",
    "        osc.start()\n",
    "    else:\n",
    "        osc.stop()\n",
    "\n",
    "toggle_play_button.observe(start_stop_osc, names='value')\n",
    "\n",
    "ipywidgets.VBox([freq_slider, type_dropdown, toggle_play_button])"
   ]
  },
  {
   "cell_type": "code",
   "execution_count": 16,
   "id": "3364cb5d-00ae-4526-a4a7-ed35146b55b2",
   "metadata": {},
   "outputs": [],
   "source": [
    "channel_one = ipytone.Channel(channel_count=1).to_destination()\n",
    "\n",
    "delay = ipytone.PingPongDelay(delay_time=\"16n\", feedback=0.2)\n",
    "\n",
    "perc_synth = ipytone.MembraneSynth(volume=-10).chain(delay, channel_one)\n",
    "\n",
    "lfo = ipytone.LFO(frequency=\"8n\", min=-200, max=200, type=\"triangle\")\n",
    "lfo.connect(perc_synth.detune).start()\n",
    "\n",
    "\n",
    "perc_synth.pitch_decay = 0.02\n",
    "delay.wet.value = 0.1\n",
    "lfo.amplitude.value = 0.6"
   ]
  },
  {
   "cell_type": "code",
   "execution_count": 17,
   "id": "a8c5593f-db3d-48e7-be70-25bff06360ba",
   "metadata": {},
   "outputs": [
    {
     "data": {
      "text/plain": [
       "MembraneSynth()"
      ]
     },
     "execution_count": 17,
     "metadata": {},
     "output_type": "execute_result"
    }
   ],
   "source": [
    "perc_synth.trigger_attack_release(440.0, 0.5)"
   ]
  },
  {
   "cell_type": "code",
   "execution_count": 18,
   "id": "f5e57078-25db-45e6-b0d9-b3e2a738ff45",
   "metadata": {},
   "outputs": [],
   "source": [
    "def clb(time, note):\n",
    "    #synth.trigger_attack_release(note, 0.2, time=time)\n",
    "    perc_synth.trigger_attack_release(note, 0.05, time=time)\n",
    "\n",
    "sequence = ipytone.Sequence(\n",
    "    callback=clb,\n",
    "    events=[\"A0\", \"A1\", \"A0\", None, \"F#2\", \"G2\", \"G#2\", \"A2\"],\n",
    "    subdivision=\"16n\",\n",
    ")"
   ]
  },
  {
   "cell_type": "code",
   "execution_count": 19,
   "id": "31efae4f-498b-4984-aa13-db82a3ca3ec9",
   "metadata": {},
   "outputs": [
    {
     "data": {
      "text/plain": [
       "Sequence(loop=True, loop_start=0.0, loop_end=0.0)"
      ]
     },
     "execution_count": 19,
     "metadata": {},
     "output_type": "execute_result"
    }
   ],
   "source": [
    "ipytone.get_transport().start()\n",
    "sequence.start()"
   ]
  },
  {
   "cell_type": "code",
   "execution_count": 20,
   "id": "ae016ba3-8eb7-46c5-9729-3a65c3671a25",
   "metadata": {},
   "outputs": [
    {
     "data": {
      "text/plain": [
       "Transport()"
      ]
     },
     "execution_count": 20,
     "metadata": {},
     "output_type": "execute_result"
    }
   ],
   "source": [
    "ipytone.get_transport().stop()"
   ]
  },
  {
   "cell_type": "markdown",
   "id": "04c9326c-3161-41cd-86ce-0a54ddbe31db",
   "metadata": {},
   "source": [
    "# oberserving state from python\n",
    "- https://ipytone.readthedocs.io/en/latest/observe_link.html#observing-state-from-python"
   ]
  },
  {
   "cell_type": "code",
   "execution_count": 21,
   "id": "64604176-6829-41d2-ad50-622a0a63c41a",
   "metadata": {},
   "outputs": [
    {
     "data": {
      "application/vnd.jupyter.widget-view+json": {
       "model_id": "a277e3feca7743c6a1f894db33855bf8",
       "version_major": 2,
       "version_minor": 0
      },
      "text/plain": [
       "Output()"
      ]
     },
     "execution_count": 21,
     "metadata": {},
     "output_type": "execute_result"
    }
   ],
   "source": [
    "synth = ipytone.Synth().to_destination()\n",
    "\n",
    "\n",
    "output = ipywidgets.Output()\n",
    "\n",
    "def print_new_value(change):\n",
    "    widget = change[\"owner\"].observed_widget\n",
    "\n",
    "    with output:\n",
    "        print(widget, \" : \", change[\"new\"])\n",
    "\n",
    "output"
   ]
  },
  {
   "cell_type": "code",
   "execution_count": 22,
   "id": "fb7adab7-8331-41b0-8bed-c7d80e1c2879",
   "metadata": {},
   "outputs": [],
   "source": [
    "synth.oscillator.frequency.schedule_observe(\n",
    "    print_new_value,\n",
    "    update_interval=0.5,\n",
    "    name=\"value\",\n",
    "    transport=False,\n",
    ")"
   ]
  },
  {
   "cell_type": "code",
   "execution_count": 23,
   "id": "e4e86c61-1b72-48b0-a07b-598799f11287",
   "metadata": {},
   "outputs": [
    {
     "data": {
      "text/plain": [
       "Synth()"
      ]
     },
     "execution_count": 23,
     "metadata": {},
     "output_type": "execute_result"
    }
   ],
   "source": [
    "synth.trigger_attack_release(\"C3\", 1)\n",
    "synth.trigger_attack_release(\"A3\", 1, time=\"+1\")"
   ]
  },
  {
   "cell_type": "code",
   "execution_count": 24,
   "id": "64ac4c6b-07dd-485e-bdca-a6cfac4de76e",
   "metadata": {},
   "outputs": [],
   "source": [
    "# set a longer envelope attack\n",
    "synth.envelope.attack = 1"
   ]
  },
  {
   "cell_type": "code",
   "execution_count": 25,
   "id": "4ba3e633-1054-426c-a1f2-45cf71a402e2",
   "metadata": {},
   "outputs": [],
   "source": [
    "synth.envelope.schedule_observe(print_new_value, update_interval=0.1)\n"
   ]
  },
  {
   "cell_type": "code",
   "execution_count": 26,
   "id": "fb6f19b6-f17f-4073-99b4-b5cf54c6025a",
   "metadata": {},
   "outputs": [
    {
     "data": {
      "text/plain": [
       "Synth()"
      ]
     },
     "execution_count": 26,
     "metadata": {},
     "output_type": "execute_result"
    }
   ],
   "source": [
    "synth.trigger_attack_release(\"C3\", 2)\n"
   ]
  },
  {
   "cell_type": "code",
   "execution_count": 27,
   "id": "9bc085d0-1d5d-40cd-bd31-6c40084c03a0",
   "metadata": {},
   "outputs": [],
   "source": [
    "synth.oscillator.frequency.schedule_unobserve(print_new_value)\n",
    "synth.envelope.schedule_unobserve(print_new_value)"
   ]
  },
  {
   "cell_type": "code",
   "execution_count": 28,
   "id": "897a6f9f-edb6-4c25-a2ec-809703bb70c7",
   "metadata": {},
   "outputs": [],
   "source": [
    "synth.oscillator.frequency.schedule_observe(\n",
    "    print_new_value,\n",
    "    update_interval=3,\n",
    "    observe_time=True\n",
    ")"
   ]
  },
  {
   "cell_type": "code",
   "execution_count": 29,
   "id": "5f25e538-0569-436d-8321-2570a0662873",
   "metadata": {},
   "outputs": [
    {
     "data": {
      "application/vnd.jupyter.widget-view+json": {
       "model_id": "a277e3feca7743c6a1f894db33855bf8",
       "version_major": 2,
       "version_minor": 0
      },
      "text/plain": [
       "Output(outputs=({'name': 'stdout', 'text': \"Signal(value=440.0, units='frequency')  :  130.8127826502993\\nAmpl…"
      ]
     },
     "execution_count": 29,
     "metadata": {},
     "output_type": "execute_result"
    }
   ],
   "source": [
    "output.clear_output()\n",
    "output"
   ]
  },
  {
   "cell_type": "code",
   "execution_count": 30,
   "id": "fd7d45ca-3bdf-478d-a897-110cfbc31db9",
   "metadata": {},
   "outputs": [],
   "source": [
    "synth.oscillator.frequency.schedule_unobserve(print_new_value)\n"
   ]
  },
  {
   "cell_type": "code",
   "execution_count": 31,
   "id": "fbb605d0-3bc6-4379-8301-cb7162cb87a3",
   "metadata": {},
   "outputs": [
    {
     "data": {
      "application/vnd.jupyter.widget-view+json": {
       "model_id": "4894a6b49cad4dccaf162b1a01b09e15",
       "version_major": 2,
       "version_minor": 0
      },
      "text/plain": [
       "FloatProgress(value=0.0, max=1.0)"
      ]
     },
     "execution_count": 31,
     "metadata": {},
     "output_type": "execute_result"
    }
   ],
   "source": [
    "progress = ipywidgets.FloatProgress(value=0, min=0, max=1)\n",
    "\n",
    "link = synth.envelope.schedule_jsdlink((progress, \"value\"))\n",
    "\n",
    "progress"
   ]
  },
  {
   "cell_type": "code",
   "execution_count": 32,
   "id": "c69fd645-de66-4557-830a-98acca91d501",
   "metadata": {},
   "outputs": [
    {
     "data": {
      "text/plain": [
       "Synth()"
      ]
     },
     "execution_count": 32,
     "metadata": {},
     "output_type": "execute_result"
    }
   ],
   "source": [
    "synth.trigger_attack_release(\"C3\", 2)"
   ]
  },
  {
   "cell_type": "code",
   "execution_count": null,
   "id": "b64ed430-1104-4a1b-b359-dcf75200572f",
   "metadata": {},
   "outputs": [],
   "source": [
    "link.unlink()"
   ]
  },
  {
   "cell_type": "code",
   "execution_count": 48,
   "id": "d1d0e905-ecb2-4738-a8ac-8c7677883094",
   "metadata": {},
   "outputs": [
    {
     "data": {
      "application/vnd.jupyter.widget-view+json": {
       "model_id": "c98341661f66488195eebfb11d04f9bd",
       "version_major": 2,
       "version_minor": 0
      },
      "text/plain": [
       "Output(layout=Layout(height='500px'))"
      ]
     },
     "execution_count": 48,
     "metadata": {},
     "output_type": "execute_result"
    }
   ],
   "source": [
    "# Create the output for an analyzer\n",
    "# print(plt.style.available)\n",
    "# Makes the plot a little less epilepsy inducing on a dark background\n",
    "plt.style.use('dark_background')\n",
    "\n",
    "plot_output = ipywidgets.Output(layout=ipywidgets.Layout(height=\"500px\"))\n",
    "\n",
    "def plot_change(change):\n",
    "    plot_output.clear_output()\n",
    "    with plot_output:\n",
    "        plt.plot(change[\"new\"])\n",
    "        plt.show()\n",
    "\n",
    "plot_output"
   ]
  },
  {
   "cell_type": "code",
   "execution_count": 41,
   "id": "86d110f2-011b-4faa-a6e6-26c08701e073",
   "metadata": {},
   "outputs": [
    {
     "data": {
      "text/plain": [
       "Synth()"
      ]
     },
     "execution_count": 41,
     "metadata": {},
     "output_type": "execute_result"
    }
   ],
   "source": [
    "analyser = ipytone.Analyser(type=\"waveform\")\n",
    "synth.connect(analyser)"
   ]
  },
  {
   "cell_type": "code",
   "execution_count": 42,
   "id": "e798e2e4-bc10-4add-a5a5-b67a248be41d",
   "metadata": {},
   "outputs": [],
   "source": [
    "analyser.schedule_observe(plot_change, update_interval=0.5)\n"
   ]
  },
  {
   "cell_type": "code",
   "execution_count": 49,
   "id": "77111e77-379b-4e9c-bee8-4d60058866ba",
   "metadata": {},
   "outputs": [
    {
     "data": {
      "text/plain": [
       "Synth()"
      ]
     },
     "execution_count": 49,
     "metadata": {},
     "output_type": "execute_result"
    }
   ],
   "source": [
    "synth.trigger_attack_release(\"C4\", 2)\n"
   ]
  },
  {
   "cell_type": "code",
   "execution_count": 44,
   "id": "00de3a02-f34e-4245-b174-959d9aa58a5c",
   "metadata": {},
   "outputs": [
    {
     "data": {
      "text/plain": [
       "Analyser(disposed=True)"
      ]
     },
     "execution_count": 44,
     "metadata": {},
     "output_type": "execute_result"
    }
   ],
   "source": [
    "analyser.schedule_unobserve(plot_change)\n",
    "analyser.dispose()"
   ]
  },
  {
   "cell_type": "code",
   "execution_count": 108,
   "id": "fa292d28-7eb8-4e15-afe4-00c148d91598",
   "metadata": {},
   "outputs": [
    {
     "data": {
      "text/plain": [
       "Synth(disposed=True)"
      ]
     },
     "execution_count": 108,
     "metadata": {},
     "output_type": "execute_result"
    }
   ],
   "source": [
    "synth.dispose()"
   ]
  },
  {
   "cell_type": "markdown",
   "id": "d5c2eeab-5647-4cb5-ac31-fb4ae71ad66c",
   "metadata": {},
   "source": [
    "---"
   ]
  },
  {
   "cell_type": "code",
   "execution_count": null,
   "id": "d79a4b91-c139-43d8-8ced-1ccf0d67b089",
   "metadata": {},
   "outputs": [],
   "source": []
  }
 ],
 "metadata": {
  "kernelspec": {
   "display_name": "Python 3 (ipykernel)",
   "language": "python",
   "name": "python3"
  },
  "language_info": {
   "codemirror_mode": {
    "name": "ipython",
    "version": 3
   },
   "file_extension": ".py",
   "mimetype": "text/x-python",
   "name": "python",
   "nbconvert_exporter": "python",
   "pygments_lexer": "ipython3",
   "version": "3.12.0"
  }
 },
 "nbformat": 4,
 "nbformat_minor": 5
}
