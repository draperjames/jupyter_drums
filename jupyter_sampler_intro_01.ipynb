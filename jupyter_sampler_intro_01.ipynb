{
 "cells": [
  {
   "cell_type": "markdown",
   "id": "1dcdabc0-2a39-4179-809c-6617fcc3ce05",
   "metadata": {},
   "source": [
    "# Create a drumkit using found samples, ipytone, and jupyter widgets\n",
    "\n",
    "- In this overview we will import samples from the web and use ipytone and jupyter widgets to play them with a crontroller"
   ]
  },
  {
   "cell_type": "code",
   "execution_count": 1,
   "id": "9b64d772-99ee-4dae-ad1d-5ab3daa8b382",
   "metadata": {},
   "outputs": [],
   "source": [
    "import os\n",
    "import glob\n",
    "import ipytone\n",
    "from ipywidgets import widgets\n",
    "import pandas as pd\n",
    "import numpy as np\n",
    "from scipy.io import wavfile\n",
    "import matplotlib.pyplot as plt"
   ]
  },
  {
   "cell_type": "markdown",
   "id": "cd598c1b-b66c-4a29-9fb1-255abe321189",
   "metadata": {},
   "source": [
    "# Download the data\n",
    "- download the data found at this link and put it in the same directory that you have this file:\n",
    "\n",
    "- https://www.drumkito.com/sample-packs/roland-tr-808-sample-pack/"
   ]
  },
  {
   "cell_type": "code",
   "execution_count": 2,
   "id": "46763f7e-d098-4fab-bbf6-bf85929a46dd",
   "metadata": {},
   "outputs": [],
   "source": [
    "sample_dir_808 = \"Roland TR-808/*/*.WAV\"\n",
    "sample_files_808 = glob.glob(sample_dir_808)"
   ]
  },
  {
   "cell_type": "code",
   "execution_count": 3,
   "id": "d676ff78-43ce-41f1-8895-b55e793aceac",
   "metadata": {},
   "outputs": [],
   "source": [
    "# sample_files_808"
   ]
  },
  {
   "cell_type": "code",
   "execution_count": 4,
   "id": "9b63eb99-c425-4636-8ba7-9f32a18a18a8",
   "metadata": {},
   "outputs": [],
   "source": [
    "sample_codes_808 = \"\"\"bass_drum BD\n",
    "snare_drum SD\n",
    "low_tom LT\n",
    "mid_tom MT\n",
    "hi_tom HT\n",
    "low_conga LC\n",
    "mid conga MC\n",
    "hi_onga HC\n",
    "rim_shot RS\n",
    "claves CL\n",
    "hand_clap CP\n",
    "maracas MA\n",
    "cowbell CB\n",
    "cymbal CY\n",
    "open_hi_hat OH\n",
    "closed_hi_hat CH\"\"\""
   ]
  },
  {
   "cell_type": "code",
   "execution_count": 5,
   "id": "23ad270b-7d7a-49e7-967c-6c67cbc5721e",
   "metadata": {},
   "outputs": [],
   "source": [
    "sample_lables = [list(reversed(i.split())) for i in sample_codes_808.split('\\n')]"
   ]
  },
  {
   "cell_type": "code",
   "execution_count": 6,
   "id": "1021b840-f540-41ec-bf2c-69aed1b621a0",
   "metadata": {},
   "outputs": [],
   "source": [
    "sample_lable_dict = dict()\n",
    "for i in sample_lables:\n",
    "    sample_lable_dict[i[0]] = i[1]\n"
   ]
  },
  {
   "cell_type": "code",
   "execution_count": 7,
   "id": "a1f76c06-362d-4b79-83f4-e1af120efcf9",
   "metadata": {},
   "outputs": [
    {
     "data": {
      "text/plain": [
       "{'BD': 'bass_drum',\n",
       " 'SD': 'snare_drum',\n",
       " 'LT': 'low_tom',\n",
       " 'MT': 'mid_tom',\n",
       " 'HT': 'hi_tom',\n",
       " 'LC': 'low_conga',\n",
       " 'MC': 'conga',\n",
       " 'HC': 'hi_onga',\n",
       " 'RS': 'rim_shot',\n",
       " 'CL': 'claves',\n",
       " 'CP': 'hand_clap',\n",
       " 'MA': 'maracas',\n",
       " 'CB': 'cowbell',\n",
       " 'CY': 'cymbal',\n",
       " 'OH': 'open_hi_hat',\n",
       " 'CH': 'closed_hi_hat'}"
      ]
     },
     "execution_count": 7,
     "metadata": {},
     "output_type": "execute_result"
    }
   ],
   "source": [
    "sample_lable_dict"
   ]
  },
  {
   "cell_type": "code",
   "execution_count": 8,
   "id": "f3b31069-59b6-41cd-940f-017e7b196d40",
   "metadata": {},
   "outputs": [],
   "source": [
    "sample_lable_df = pd.DataFrame([sample_lable_dict.keys(), sample_lable_dict.values()]).T"
   ]
  },
  {
   "cell_type": "code",
   "execution_count": 9,
   "id": "46c77540-f5d0-4936-a641-87672b036b85",
   "metadata": {},
   "outputs": [],
   "source": [
    "sample_names = [i.split('\\\\')[-1].split('.')[0] for i in sample_files_808]"
   ]
  },
  {
   "cell_type": "code",
   "execution_count": 10,
   "id": "dc7e2c41-49f4-4144-9530-93cc3f051d90",
   "metadata": {},
   "outputs": [],
   "source": [
    "sample_df = pd.DataFrame(sample_names, columns=['sample_name'])"
   ]
  },
  {
   "cell_type": "code",
   "execution_count": 11,
   "id": "bc64b85c-faa1-45f9-a187-19115f40c2f4",
   "metadata": {},
   "outputs": [],
   "source": [
    "def lable_check(sample_name):\n",
    "    mask = [i in sample_name for i in sample_lable_dict.keys()]\n",
    "    key = sample_lable_df.loc[mask][0].values[0]\n",
    "    return sample_lable_dict[key]\n",
    "\n",
    "sample_df['lable'] = sample_df.sample_name.apply(lable_check)"
   ]
  },
  {
   "cell_type": "code",
   "execution_count": 12,
   "id": "1924a7d0-6f15-4209-b38d-f824e1a38671",
   "metadata": {},
   "outputs": [
    {
     "data": {
      "text/html": [
       "<div>\n",
       "<style scoped>\n",
       "    .dataframe tbody tr th:only-of-type {\n",
       "        vertical-align: middle;\n",
       "    }\n",
       "\n",
       "    .dataframe tbody tr th {\n",
       "        vertical-align: top;\n",
       "    }\n",
       "\n",
       "    .dataframe thead th {\n",
       "        text-align: right;\n",
       "    }\n",
       "</style>\n",
       "<table border=\"1\" class=\"dataframe\">\n",
       "  <thead>\n",
       "    <tr style=\"text-align: right;\">\n",
       "      <th></th>\n",
       "      <th>sample_name</th>\n",
       "      <th>lable</th>\n",
       "    </tr>\n",
       "  </thead>\n",
       "  <tbody>\n",
       "    <tr>\n",
       "      <th>0</th>\n",
       "      <td>BD0000</td>\n",
       "      <td>bass_drum</td>\n",
       "    </tr>\n",
       "    <tr>\n",
       "      <th>1</th>\n",
       "      <td>BD0010</td>\n",
       "      <td>bass_drum</td>\n",
       "    </tr>\n",
       "    <tr>\n",
       "      <th>2</th>\n",
       "      <td>BD0025</td>\n",
       "      <td>bass_drum</td>\n",
       "    </tr>\n",
       "    <tr>\n",
       "      <th>3</th>\n",
       "      <td>BD0050</td>\n",
       "      <td>bass_drum</td>\n",
       "    </tr>\n",
       "    <tr>\n",
       "      <th>4</th>\n",
       "      <td>BD0075</td>\n",
       "      <td>bass_drum</td>\n",
       "    </tr>\n",
       "    <tr>\n",
       "      <th>...</th>\n",
       "      <td>...</td>\n",
       "      <td>...</td>\n",
       "    </tr>\n",
       "    <tr>\n",
       "      <th>111</th>\n",
       "      <td>SD7500</td>\n",
       "      <td>snare_drum</td>\n",
       "    </tr>\n",
       "    <tr>\n",
       "      <th>112</th>\n",
       "      <td>SD7510</td>\n",
       "      <td>snare_drum</td>\n",
       "    </tr>\n",
       "    <tr>\n",
       "      <th>113</th>\n",
       "      <td>SD7525</td>\n",
       "      <td>snare_drum</td>\n",
       "    </tr>\n",
       "    <tr>\n",
       "      <th>114</th>\n",
       "      <td>SD7550</td>\n",
       "      <td>snare_drum</td>\n",
       "    </tr>\n",
       "    <tr>\n",
       "      <th>115</th>\n",
       "      <td>SD7575</td>\n",
       "      <td>snare_drum</td>\n",
       "    </tr>\n",
       "  </tbody>\n",
       "</table>\n",
       "<p>116 rows × 2 columns</p>\n",
       "</div>"
      ],
      "text/plain": [
       "    sample_name       lable\n",
       "0        BD0000   bass_drum\n",
       "1        BD0010   bass_drum\n",
       "2        BD0025   bass_drum\n",
       "3        BD0050   bass_drum\n",
       "4        BD0075   bass_drum\n",
       "..          ...         ...\n",
       "111      SD7500  snare_drum\n",
       "112      SD7510  snare_drum\n",
       "113      SD7525  snare_drum\n",
       "114      SD7550  snare_drum\n",
       "115      SD7575  snare_drum\n",
       "\n",
       "[116 rows x 2 columns]"
      ]
     },
     "execution_count": 12,
     "metadata": {},
     "output_type": "execute_result"
    }
   ],
   "source": [
    "sample_df"
   ]
  },
  {
   "cell_type": "code",
   "execution_count": 13,
   "id": "33ac9f16-861c-4877-b8ea-8c832c347fc7",
   "metadata": {},
   "outputs": [],
   "source": [
    "sample_df['file_name'] = sample_files_808"
   ]
  },
  {
   "cell_type": "code",
   "execution_count": 14,
   "id": "60959c6d-edd7-4562-a795-dbcf5c2c1246",
   "metadata": {},
   "outputs": [
    {
     "data": {
      "text/html": [
       "<div>\n",
       "<style scoped>\n",
       "    .dataframe tbody tr th:only-of-type {\n",
       "        vertical-align: middle;\n",
       "    }\n",
       "\n",
       "    .dataframe tbody tr th {\n",
       "        vertical-align: top;\n",
       "    }\n",
       "\n",
       "    .dataframe thead th {\n",
       "        text-align: right;\n",
       "    }\n",
       "</style>\n",
       "<table border=\"1\" class=\"dataframe\">\n",
       "  <thead>\n",
       "    <tr style=\"text-align: right;\">\n",
       "      <th></th>\n",
       "      <th>sample_name</th>\n",
       "      <th>lable</th>\n",
       "      <th>file_name</th>\n",
       "    </tr>\n",
       "  </thead>\n",
       "  <tbody>\n",
       "    <tr>\n",
       "      <th>0</th>\n",
       "      <td>BD0000</td>\n",
       "      <td>bass_drum</td>\n",
       "      <td>Roland TR-808\\BD\\BD0000.WAV</td>\n",
       "    </tr>\n",
       "    <tr>\n",
       "      <th>1</th>\n",
       "      <td>BD0010</td>\n",
       "      <td>bass_drum</td>\n",
       "      <td>Roland TR-808\\BD\\BD0010.WAV</td>\n",
       "    </tr>\n",
       "    <tr>\n",
       "      <th>2</th>\n",
       "      <td>BD0025</td>\n",
       "      <td>bass_drum</td>\n",
       "      <td>Roland TR-808\\BD\\BD0025.WAV</td>\n",
       "    </tr>\n",
       "    <tr>\n",
       "      <th>3</th>\n",
       "      <td>BD0050</td>\n",
       "      <td>bass_drum</td>\n",
       "      <td>Roland TR-808\\BD\\BD0050.WAV</td>\n",
       "    </tr>\n",
       "    <tr>\n",
       "      <th>4</th>\n",
       "      <td>BD0075</td>\n",
       "      <td>bass_drum</td>\n",
       "      <td>Roland TR-808\\BD\\BD0075.WAV</td>\n",
       "    </tr>\n",
       "    <tr>\n",
       "      <th>...</th>\n",
       "      <td>...</td>\n",
       "      <td>...</td>\n",
       "      <td>...</td>\n",
       "    </tr>\n",
       "    <tr>\n",
       "      <th>111</th>\n",
       "      <td>SD7500</td>\n",
       "      <td>snare_drum</td>\n",
       "      <td>Roland TR-808\\SD\\SD7500.WAV</td>\n",
       "    </tr>\n",
       "    <tr>\n",
       "      <th>112</th>\n",
       "      <td>SD7510</td>\n",
       "      <td>snare_drum</td>\n",
       "      <td>Roland TR-808\\SD\\SD7510.WAV</td>\n",
       "    </tr>\n",
       "    <tr>\n",
       "      <th>113</th>\n",
       "      <td>SD7525</td>\n",
       "      <td>snare_drum</td>\n",
       "      <td>Roland TR-808\\SD\\SD7525.WAV</td>\n",
       "    </tr>\n",
       "    <tr>\n",
       "      <th>114</th>\n",
       "      <td>SD7550</td>\n",
       "      <td>snare_drum</td>\n",
       "      <td>Roland TR-808\\SD\\SD7550.WAV</td>\n",
       "    </tr>\n",
       "    <tr>\n",
       "      <th>115</th>\n",
       "      <td>SD7575</td>\n",
       "      <td>snare_drum</td>\n",
       "      <td>Roland TR-808\\SD\\SD7575.WAV</td>\n",
       "    </tr>\n",
       "  </tbody>\n",
       "</table>\n",
       "<p>116 rows × 3 columns</p>\n",
       "</div>"
      ],
      "text/plain": [
       "    sample_name       lable                    file_name\n",
       "0        BD0000   bass_drum  Roland TR-808\\BD\\BD0000.WAV\n",
       "1        BD0010   bass_drum  Roland TR-808\\BD\\BD0010.WAV\n",
       "2        BD0025   bass_drum  Roland TR-808\\BD\\BD0025.WAV\n",
       "3        BD0050   bass_drum  Roland TR-808\\BD\\BD0050.WAV\n",
       "4        BD0075   bass_drum  Roland TR-808\\BD\\BD0075.WAV\n",
       "..          ...         ...                          ...\n",
       "111      SD7500  snare_drum  Roland TR-808\\SD\\SD7500.WAV\n",
       "112      SD7510  snare_drum  Roland TR-808\\SD\\SD7510.WAV\n",
       "113      SD7525  snare_drum  Roland TR-808\\SD\\SD7525.WAV\n",
       "114      SD7550  snare_drum  Roland TR-808\\SD\\SD7550.WAV\n",
       "115      SD7575  snare_drum  Roland TR-808\\SD\\SD7575.WAV\n",
       "\n",
       "[116 rows x 3 columns]"
      ]
     },
     "execution_count": 14,
     "metadata": {},
     "output_type": "execute_result"
    }
   ],
   "source": [
    "sample_df"
   ]
  },
  {
   "cell_type": "code",
   "execution_count": 15,
   "id": "34dc46e7-971d-4e8a-8304-f375554c9e5d",
   "metadata": {},
   "outputs": [
    {
     "name": "stderr",
     "output_type": "stream",
     "text": [
      "C:\\Users\\smada\\AppData\\Local\\Temp\\ipykernel_14520\\3167456665.py:1: WavFileWarning: Reached EOF prematurely; finished at 264646 bytes, expected 264647 bytes from header.\n",
      "  wav_df = sample_df.file_name.apply(lambda x: wavfile.read(x)[1])\n",
      "C:\\Users\\smada\\AppData\\Local\\Temp\\ipykernel_14520\\3167456665.py:1: WavFileWarning: Reached EOF prematurely; finished at 44146 bytes, expected 44147 bytes from header.\n",
      "  wav_df = sample_df.file_name.apply(lambda x: wavfile.read(x)[1])\n",
      "C:\\Users\\smada\\AppData\\Local\\Temp\\ipykernel_14520\\3167456665.py:1: WavFileWarning: Reached EOF prematurely; finished at 132346 bytes, expected 132347 bytes from header.\n",
      "  wav_df = sample_df.file_name.apply(lambda x: wavfile.read(x)[1])\n",
      "C:\\Users\\smada\\AppData\\Local\\Temp\\ipykernel_14520\\3167456665.py:1: WavFileWarning: Reached EOF prematurely; finished at 176446 bytes, expected 176447 bytes from header.\n",
      "  wav_df = sample_df.file_name.apply(lambda x: wavfile.read(x)[1])\n",
      "C:\\Users\\smada\\AppData\\Local\\Temp\\ipykernel_14520\\3167456665.py:1: WavFileWarning: Reached EOF prematurely; finished at 22094 bytes, expected 22095 bytes from header.\n",
      "  wav_df = sample_df.file_name.apply(lambda x: wavfile.read(x)[1])\n",
      "C:\\Users\\smada\\AppData\\Local\\Temp\\ipykernel_14520\\3167456665.py:1: WavFileWarning: Reached EOF prematurely; finished at 352846 bytes, expected 352847 bytes from header.\n",
      "  wav_df = sample_df.file_name.apply(lambda x: wavfile.read(x)[1])\n",
      "C:\\Users\\smada\\AppData\\Local\\Temp\\ipykernel_14520\\3167456665.py:1: WavFileWarning: Reached EOF prematurely; finished at 220546 bytes, expected 220547 bytes from header.\n",
      "  wav_df = sample_df.file_name.apply(lambda x: wavfile.read(x)[1])\n",
      "C:\\Users\\smada\\AppData\\Local\\Temp\\ipykernel_14520\\3167456665.py:1: WavFileWarning: Reached EOF prematurely; finished at 308746 bytes, expected 308747 bytes from header.\n",
      "  wav_df = sample_df.file_name.apply(lambda x: wavfile.read(x)[1])\n",
      "C:\\Users\\smada\\AppData\\Local\\Temp\\ipykernel_14520\\3167456665.py:1: WavFileWarning: Reached EOF prematurely; finished at 88246 bytes, expected 88247 bytes from header.\n",
      "  wav_df = sample_df.file_name.apply(lambda x: wavfile.read(x)[1])\n"
     ]
    }
   ],
   "source": [
    "wav_df = sample_df.file_name.apply(lambda x: wavfile.read(x)[1])\n"
   ]
  },
  {
   "cell_type": "code",
   "execution_count": 16,
   "id": "e8e067c8-bc0a-421c-a617-690dc18b5da4",
   "metadata": {},
   "outputs": [],
   "source": [
    "sample_df[\"signal\"] = wav_df"
   ]
  },
  {
   "cell_type": "code",
   "execution_count": 17,
   "id": "c1fcf04d-a44d-4805-89d0-ccb57992c845",
   "metadata": {},
   "outputs": [
    {
     "data": {
      "text/plain": [
       "0"
      ]
     },
     "execution_count": 17,
     "metadata": {},
     "output_type": "execute_result"
    }
   ],
   "source": [
    "sum(sample_df.signal.apply(len) == 0)"
   ]
  },
  {
   "cell_type": "code",
   "execution_count": 18,
   "id": "a07a2b63-0ab9-4387-91dd-bf05b5aea217",
   "metadata": {},
   "outputs": [],
   "source": [
    "# wavfile.read(sample_df.file_name[1])"
   ]
  },
  {
   "cell_type": "markdown",
   "id": "5b15a341-501f-4adf-abd2-8d7c89b745fb",
   "metadata": {},
   "source": [
    "# Read up on the scipy wavefile function\n",
    "- We were able to read all of the files into the array but we got some errors due to mangled file headers\n",
    "- https://docs.scipy.org/doc/scipy/reference/generated/scipy.io.wavfile.read.html\n",
    "- some information about the issue above can be found in this issue: https://github.com/scipy/scipy/issues/6700#issuecomment-255592052"
   ]
  },
  {
   "cell_type": "code",
   "execution_count": 19,
   "id": "1c011853-286a-447e-ad62-69372f4cda3f",
   "metadata": {},
   "outputs": [],
   "source": [
    "audio_buffers = sample_df.signal.apply(lambda x: ipytone.AudioBuffer(x.astype(float))).to_list()"
   ]
  },
  {
   "cell_type": "code",
   "execution_count": 20,
   "id": "14423db0-8ec0-4fa3-8a55-bdd933446154",
   "metadata": {},
   "outputs": [],
   "source": [
    "audio_buffers_dict = dict(zip(sample_df.sample_name.to_list(), audio_buffers))"
   ]
  },
  {
   "cell_type": "code",
   "execution_count": 21,
   "id": "848673a7-9f17-4838-b071-df81a8c1ce6c",
   "metadata": {},
   "outputs": [],
   "source": [
    "sample_808 = ipytone.AudioBuffers(audio_buffers_dict)"
   ]
  },
  {
   "cell_type": "code",
   "execution_count": 22,
   "id": "1ae8ae4a-f751-4838-a340-5ecc5e486f14",
   "metadata": {},
   "outputs": [
    {
     "data": {
      "text/plain": [
       "'BD1000'"
      ]
     },
     "execution_count": 22,
     "metadata": {},
     "output_type": "execute_result"
    }
   ],
   "source": [
    "sample_df.sample_name[5]"
   ]
  },
  {
   "cell_type": "code",
   "execution_count": 23,
   "id": "771a7017-30c7-4624-a04e-3dd9c21ebf55",
   "metadata": {},
   "outputs": [
    {
     "data": {
      "text/plain": [
       "AudioBuffer(loaded=True, duration=0.22970833333333332)"
      ]
     },
     "execution_count": 23,
     "metadata": {},
     "output_type": "execute_result"
    }
   ],
   "source": [
    "sample_808.buffers[\"BD1000\"]"
   ]
  },
  {
   "cell_type": "code",
   "execution_count": 24,
   "id": "2bf419e5-9738-45f1-a2df-8951616f5d07",
   "metadata": {},
   "outputs": [],
   "source": [
    "sample_808_players = ipytone.Players(sample_808.buffers).to_destination()"
   ]
  },
  {
   "cell_type": "code",
   "execution_count": 25,
   "id": "daaae5da-5d6d-446b-bc34-fc2c25735bf2",
   "metadata": {},
   "outputs": [
    {
     "data": {
      "text/plain": [
       "Player()"
      ]
     },
     "execution_count": 25,
     "metadata": {},
     "output_type": "execute_result"
    }
   ],
   "source": [
    "sample_808_players.get_player(\"BD1000\").start()"
   ]
  },
  {
   "cell_type": "code",
   "execution_count": 26,
   "id": "efbaa547-1f36-4863-ad47-5765cbfefbdf",
   "metadata": {},
   "outputs": [
    {
     "data": {
      "application/vnd.jupyter.widget-view+json": {
       "model_id": "f9f91cbfcf7649e387594e7185ddd8dc",
       "version_major": 2,
       "version_minor": 0
      },
      "text/plain": [
       "interactive(children=(Dropdown(description='x', options=('BD0000', 'BD0010', 'BD0025', 'BD0050', 'BD0075', 'BD…"
      ]
     },
     "metadata": {},
     "output_type": "display_data"
    }
   ],
   "source": [
    "@widgets.interact(x = sample_df.sample_name)\n",
    "def plot_sound_file(x=sample_df.sample_name[0]):\n",
    "    plt.plot(sample_808.buffers[x].array)\n",
    "    sample_808_players.get_player(x).start().stop(\"+1\")"
   ]
  },
  {
   "cell_type": "code",
   "execution_count": 27,
   "id": "7b24a560-f1d8-472a-bbf8-1d2cc8ce8e39",
   "metadata": {},
   "outputs": [
    {
     "data": {
      "application/vnd.jupyter.widget-view+json": {
       "model_id": "9b2201079a1c47ea8ee780170badcb6b",
       "version_major": 2,
       "version_minor": 0
      },
      "text/plain": [
       "VBox(children=(Button(description='BD0000', layout=Layout(height='100px', width='100px'), style=ButtonStyle())…"
      ]
     },
     "execution_count": 27,
     "metadata": {},
     "output_type": "execute_result"
    }
   ],
   "source": [
    "def create_pad():\n",
    "    pad_layout = widgets.Layout(height='100px', width='100px')\n",
    "\n",
    "    play_sample_button = widgets.Button(description=sample_df.sample_name[0], layout=pad_layout)\n",
    "    \n",
    "    def play_sample(b):\n",
    "        sample_808_players.get_player(play_sample_button.description).start()\n",
    "    \n",
    "    play_sample_button.on_click(play_sample)\n",
    "    \n",
    "    \n",
    "    sample_dropdown = widgets.Dropdown(description=\"\",\n",
    "                                       options=sample_df.sample_name,\n",
    "                                       value=sample_df.sample_name[0],\n",
    "                                       layout=widgets.Layout(width=\"100px\")\n",
    "                                      )\n",
    "    \n",
    "    def change_sample_name(change):\n",
    "        if change['new']:\n",
    "            play_sample_button.description = sample_dropdown.value\n",
    "        else:\n",
    "            pass\n",
    "    \n",
    "    sample_dropdown.observe(change_sample_name, names='value')\n",
    "    \n",
    "    vbox = widgets.VBox([play_sample_button, sample_dropdown])\n",
    "    \n",
    "    return vbox\n",
    "\n",
    "pad_one = create_pad()\n",
    "pad_one\n"
   ]
  },
  {
   "cell_type": "code",
   "execution_count": 28,
   "id": "94dc7fec-e408-4dc0-800c-156b4f663bf4",
   "metadata": {},
   "outputs": [
    {
     "data": {
      "application/vnd.jupyter.widget-view+json": {
       "model_id": "a79a010cee4340e09d2bdfdc4e88d23a",
       "version_major": 2,
       "version_minor": 0
      },
      "text/plain": [
       "VBox(children=(HBox(children=(VBox(children=(Button(description='BD0000', layout=Layout(height='100px', width=…"
      ]
     },
     "execution_count": 28,
     "metadata": {},
     "output_type": "execute_result"
    }
   ],
   "source": [
    "pads = [create_pad() for i in range(16)]\n",
    "\n",
    "# Create a standard rack of drum machine pads\n",
    "pad_rack = widgets.VBox([widgets.HBox(pads[:4]),\n",
    "                         widgets.HBox(pads[4:8]),\n",
    "                         widgets.HBox(pads[8:12]),\n",
    "                         widgets.HBox(pads[12:16])\n",
    "                        ])\n",
    "pad_rack"
   ]
  },
  {
   "cell_type": "markdown",
   "id": "71638024-d1ad-4261-b0a9-311dc85c4fcb",
   "metadata": {},
   "source": [
    "---\n",
    "# Playing samples using the controller"
   ]
  },
  {
   "cell_type": "code",
   "execution_count": 29,
   "id": "ad0889e2-806f-4b7e-b8f8-7f4f232f7cd2",
   "metadata": {},
   "outputs": [],
   "source": [
    "controller = widgets.Controller()"
   ]
  },
  {
   "cell_type": "code",
   "execution_count": 30,
   "id": "0bccb84e-bcd8-484f-bfd2-f2d0acb88039",
   "metadata": {},
   "outputs": [
    {
     "data": {
      "application/vnd.jupyter.widget-view+json": {
       "model_id": "3ab2efba11df4f70862ef7b7348abfa6",
       "version_major": 2,
       "version_minor": 0
      },
      "text/plain": [
       "Controller()"
      ]
     },
     "execution_count": 30,
     "metadata": {},
     "output_type": "execute_result"
    }
   ],
   "source": [
    "controller"
   ]
  },
  {
   "cell_type": "code",
   "execution_count": 32,
   "id": "77c81710-f94f-4be7-b577-6bfa7028ebc1",
   "metadata": {},
   "outputs": [],
   "source": [
    "# Mapping controller buttons to the drumpads\n",
    "# There as to be a better way to do this but right now this is what works\n",
    "\n",
    "def button_sample_hit(change):\n",
    "    if change['new']:\n",
    "        sample_808_players.get_player(pads[0].children[0].description).start().stop(\"+1\")\n",
    "    else:\n",
    "        pass\n",
    "\n",
    "controller.buttons[0].observe(button_sample_hit, names='value')\n",
    "\n",
    "\n",
    "def button_sample_hit(change):\n",
    "    if change['new']:\n",
    "        sample_808_players.get_player(pads[1].children[0].description).start().stop(\"+1\")\n",
    "    else:\n",
    "        pass\n",
    "\n",
    "controller.buttons[1].observe(button_sample_hit, names='value')\n",
    "\n",
    "def button_sample_hit(change):\n",
    "    if change['new']:\n",
    "        sample_808_players.get_player(pads[2].children[0].description).start().stop(\"+1\")\n",
    "    else:\n",
    "        pass\n",
    "\n",
    "controller.buttons[2].observe(button_sample_hit, names='value')\n",
    "\n",
    "\n",
    "def button_sample_hit(change):\n",
    "    if change['new']:\n",
    "        sample_808_players.get_player(pads[3].children[0].description).start().stop(\"+1\")\n",
    "    else:\n",
    "        pass\n",
    "\n",
    "controller.buttons[3].observe(button_sample_hit, names='value')\n",
    "\n",
    "# The D-pad\n",
    "def button_sample_hit(change):\n",
    "    if change['new']:\n",
    "        sample_808_players.get_player(pads[12].children[0].description).start().stop(\"+1\")\n",
    "    else:\n",
    "        pass\n",
    "\n",
    "controller.buttons[12].observe(button_sample_hit, names='value')\n",
    "\n",
    "def button_sample_hit(change):\n",
    "    if change['new']:\n",
    "        sample_808_players.get_player(pads[13].children[0].description).start().stop(\"+1\")\n",
    "    else:\n",
    "        pass\n",
    "\n",
    "controller.buttons[13].observe(button_sample_hit, names='value')\n",
    "\n",
    "def button_sample_hit(change):\n",
    "    if change['new']:\n",
    "        sample_808_players.get_player(pads[14].children[0].description).start().stop(\"+1\")\n",
    "    else:\n",
    "        pass\n",
    "\n",
    "controller.buttons[14].observe(button_sample_hit, names='value')\n",
    "\n",
    "def button_sample_hit(change):\n",
    "    if change['new']:\n",
    "        sample_808_players.get_player(pads[15].children[0].description).start().stop(\"+1\")\n",
    "    else:\n",
    "        pass\n",
    "\n",
    "controller.buttons[15].observe(button_sample_hit, names='value')"
   ]
  },
  {
   "cell_type": "code",
   "execution_count": 33,
   "id": "90df769f-e08e-4871-8bf6-f760c95ae8ba",
   "metadata": {},
   "outputs": [],
   "source": [
    "# widgets.VBox([widgets.HBox(controller.buttons[:4]), widgets.HBox(pads[:4])])"
   ]
  },
  {
   "cell_type": "markdown",
   "id": "db549459-aa64-4930-b496-8d5e09008748",
   "metadata": {},
   "source": [
    "# Main Button HUD"
   ]
  },
  {
   "cell_type": "code",
   "execution_count": 34,
   "id": "a5f3cf38-3193-43c2-89cc-4712a259af17",
   "metadata": {},
   "outputs": [
    {
     "data": {
      "application/vnd.jupyter.widget-view+json": {
       "model_id": "630ff44a484e448d90c780643b606cef",
       "version_major": 2,
       "version_minor": 0
      },
      "text/plain": [
       "HBox(children=(VBox(children=(HBox(children=(Button(value=0.0), VBox(children=(Button(description='BD0000', la…"
      ]
     },
     "execution_count": 34,
     "metadata": {},
     "output_type": "execute_result"
    }
   ],
   "source": [
    "buttons_pads = np.column_stack([controller.buttons[:4], pads[:4]])\n",
    "\n",
    "buttons_pads_disp = [widgets.VBox([widgets.HBox(buttons_pads.tolist()[i])]) for i in range(len(buttons_pads))]\n",
    "\n",
    "widgets.HBox(buttons_pads_disp)"
   ]
  },
  {
   "cell_type": "markdown",
   "id": "bed1bda6-43b7-4420-a9dd-b1d85ca2f9fc",
   "metadata": {},
   "source": [
    "# DPAD HUD "
   ]
  },
  {
   "cell_type": "code",
   "execution_count": 35,
   "id": "6c1c70cf-1f55-47dc-9b77-fa9b68f39ae7",
   "metadata": {},
   "outputs": [
    {
     "data": {
      "application/vnd.jupyter.widget-view+json": {
       "model_id": "728319c560bc47138fb2930e42f8bfb4",
       "version_major": 2,
       "version_minor": 0
      },
      "text/plain": [
       "HBox(children=(VBox(children=(HBox(children=(Button(value=0.0), VBox(children=(Button(description='BD0000', la…"
      ]
     },
     "execution_count": 35,
     "metadata": {},
     "output_type": "execute_result"
    }
   ],
   "source": [
    "buttons_pads_dpad = np.column_stack([controller.buttons[12:16], pads[12:16]])\n",
    "\n",
    "buttons_pads__dpad_disp = [widgets.VBox([widgets.HBox(buttons_pads_dpad.tolist()[i])]) for i in range(len(buttons_pads_dpad))]\n",
    "\n",
    "widgets.HBox(buttons_pads__dpad_disp)"
   ]
  },
  {
   "cell_type": "markdown",
   "id": "6c192464-6f03-40c8-98e8-f67ea10a272e",
   "metadata": {},
   "source": [
    "# Conclusion\n",
    "- We were able to leverage several tools to import sample data from the web catagorize it link it to a drum pad that can be used in multiple formats one of which is the common game controller"
   ]
  },
  {
   "cell_type": "code",
   "execution_count": null,
   "id": "5268b46a-3ac4-4ae3-94ca-3e37be497028",
   "metadata": {},
   "outputs": [],
   "source": []
  }
 ],
 "metadata": {
  "kernelspec": {
   "display_name": "Python 3 (ipykernel)",
   "language": "python",
   "name": "python3"
  },
  "language_info": {
   "codemirror_mode": {
    "name": "ipython",
    "version": 3
   },
   "file_extension": ".py",
   "mimetype": "text/x-python",
   "name": "python",
   "nbconvert_exporter": "python",
   "pygments_lexer": "ipython3",
   "version": "3.12.0"
  }
 },
 "nbformat": 4,
 "nbformat_minor": 5
}
